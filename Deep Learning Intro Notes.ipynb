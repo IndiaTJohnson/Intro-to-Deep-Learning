{
 "cells": [
  {
   "cell_type": "code",
   "execution_count": null,
   "id": "3d7658d5-ef39-46df-a30d-a815e7fbe664",
   "metadata": {},
   "outputs": [],
   "source": [
    "# Basic Imports\n",
    "import numpy as np\n",
    "import matplotlib.pyplot as plt\n",
    "import pandas as pd\n",
    "# Preprocessing tools\n",
    "from sklearn.preprocessing import StandardScaler, LabelEncoder, OneHotEncoder\n",
    "from sklearn.model_selection import train_test_split\n",
    "from sklearn.impute import SimpleImputer\n",
    "from sklearn.pipeline import make_pipeline\n",
    "from sklearn.compose import ColumnTransformer\n",
    "# Deep learning tols\n",
    "import tensorflow as tf\n",
    "from tensorflow.keras.models import Sequential\n",
    "from tensorflow.keras.layers import Dense\n",
    "from sklearn import set_config\n",
    "set_config(transform_output='pandas')\n",
    "\n"
   ]
  },
  {
   "cell_type": "code",
   "execution_count": null,
   "id": "0b3ba012-19c8-4115-bb35-6d495e9e61a3",
   "metadata": {},
   "outputs": [],
   "source": [
    "# Load data from your path\n",
    "df = pd.read_csv(\"cancer.csv\", index_col=0)\n",
    "df.head()\n",
    "\n"
   ]
  },
  {
   "cell_type": "code",
   "execution_count": null,
   "id": "686f5029-43b2-46f5-818d-2e4af3df2264",
   "metadata": {},
   "outputs": [],
   "source": [
    "# Check for null values\n",
    "df.isna().sum().sum()\n",
    "\n"
   ]
  },
  {
   "cell_type": "code",
   "execution_count": null,
   "id": "e78d64e2-5b95-474a-80c4-a893ddbd45f5",
   "metadata": {},
   "outputs": [],
   "source": [
    "# Define X and y\n",
    "target = 'diagnosis'\n",
    "X = df.drop(columns = target)\n",
    "y = df[target]\n",
    "# Train test split\n",
    "X_train, X_test, y_train, y_test = train_test_split(X, y, random_state=42)\n",
    "\n"
   ]
  },
  {
   "cell_type": "code",
   "execution_count": null,
   "id": "919ec663-3772-4822-9fe5-645647f62f56",
   "metadata": {},
   "outputs": [],
   "source": [
    "# Convert target to numbers\n",
    "le = LabelEncoder()\n",
    "y_train_enc = le.fit_transform(y_train)\n",
    "y_test_enc = le.transform(y_test)\n",
    "y_train_enc\n",
    "\n"
   ]
  },
  {
   "cell_type": "code",
   "execution_count": null,
   "id": "440953bf-01b8-4d24-b0f1-9758dae6495a",
   "metadata": {},
   "outputs": [],
   "source": [
    "# Convert encoded target values to a series\n",
    "y_train_enc = pd.Series(le.transform(y_train), index=y_train.index,\n",
    "             name=target)\n",
    "y_test_enc = pd.Series(le.transform(y_test), index=y_test.index,\n",
    "             name=target)\n",
    "y_train_enc\n",
    "\n"
   ]
  },
  {
   "cell_type": "code",
   "execution_count": null,
   "id": "70364544-79a0-4860-97cc-aa689815c2d9",
   "metadata": {},
   "outputs": [],
   "source": [
    "# Check class balance\n",
    "y_train_enc.value_counts(normalize = True)\n"
   ]
  },
  {
   "cell_type": "code",
   "execution_count": null,
   "id": "8c069a89-cd5a-45f2-929e-7c8bd9d33be8",
   "metadata": {},
   "outputs": [],
   "source": [
    "# Scale data\n",
    "scaler = StandardScaler()\n",
    "scaler.fit(X_train)\n",
    "X_train_tf = scaler.transform(X_train)\n",
    "X_test_tf = scaler.transform(X_test)\n",
    "\n"
   ]
  },
  {
   "cell_type": "code",
   "execution_count": null,
   "id": "b557edd3-6a77-4441-b466-5e252f97b703",
   "metadata": {},
   "outputs": [],
   "source": [
    "# Step 1: Define our network structure\n",
    "# Save the number of features we have as our input shape\n",
    "input_shape = X_train_tf.shape[1]\n",
    "input_shape\n"
   ]
  },
  {
   "cell_type": "code",
   "execution_count": null,
   "id": "a109564f-be0d-45da-a231-43555644e2c5",
   "metadata": {},
   "outputs": [],
   "source": [
    "# Sequential model\n",
    "model = Sequential()\n"
   ]
  },
  {
   "cell_type": "code",
   "execution_count": null,
   "id": "98b77d24-b0ef-4102-995b-5f4a63936108",
   "metadata": {},
   "outputs": [],
   "source": [
    "# First hidden layer\n",
    "model.add(Dense(30, # How many neurons you have in your first hidden layer\n",
    "                input_dim = input_shape, # What is the shape of your input features (number of columns)\n",
    "                activation = 'relu')) # What activation function are you using?\n",
    "# Second hidden layer\n",
    "model.add(Dense(10, # How many neurons you have in your second hidden layer\n",
    "                activation = 'relu')) # What activation function are you using?\n",
    "\n"
   ]
  },
  {
   "cell_type": "code",
   "execution_count": null,
   "id": "4f9ca2a0-6b6b-4544-be72-3973b6214b65",
   "metadata": {},
   "outputs": [],
   "source": [
    "# Output layer\n",
    "model.add(Dense(1, activation = 'sigmoid'))\n",
    "\n"
   ]
  },
  {
   "cell_type": "code",
   "execution_count": null,
   "id": "d63f3273-a6a6-48fc-8860-76728969d52e",
   "metadata": {},
   "outputs": [],
   "source": [
    "# Output layer\n",
    "model.add(Dense(1, activation = 'sigmoid'))\n",
    "\n"
   ]
  },
  {
   "cell_type": "code",
   "execution_count": null,
   "id": "7335b7bd-cf30-455f-a381-b10cd31ce4b2",
   "metadata": {},
   "outputs": [],
   "source": [
    "# Step 2: Compile\n",
    "model.compile(loss = 'bce', optimizer = 'adam',)\n",
    "\n"
   ]
  },
  {
   "cell_type": "code",
   "execution_count": null,
   "id": "82e57b31-38c8-4114-9d8b-fbc9020313f3",
   "metadata": {},
   "outputs": [],
   "source": [
    "# Reviewing the model summary before training\n",
    "model.summary()\n",
    "\n"
   ]
  },
  {
   "cell_type": "code",
   "execution_count": null,
   "id": "cfef5e76-eb51-4a63-b10d-c310d7cbe52c",
   "metadata": {},
   "outputs": [],
   "source": [
    "# Step 3: Fit our model\n",
    "history = model.fit(X_train_tf, y_train_enc,\n",
    "                    validation_data = (X_test_tf, y_test_enc), \n",
    "                    epochs=10)\n"
   ]
  },
  {
   "cell_type": "code",
   "execution_count": null,
   "id": "a15891f8-feab-4481-8dc5-b12110d97116",
   "metadata": {},
   "outputs": [],
   "source": [
    "# History.history is a dictionary\n",
    "history.history.keys()\n",
    "\n"
   ]
  },
  {
   "cell_type": "code",
   "execution_count": null,
   "id": "64a96ba5-b960-4383-b727-3e2ec78e3fd0",
   "metadata": {},
   "outputs": [],
   "source": [
    "# Metric value for every training epoch\n",
    "history.history['loss']\n",
    "\n"
   ]
  },
  {
   "cell_type": "code",
   "execution_count": null,
   "id": "b48f49af-e064-456b-bdc5-29f51801b423",
   "metadata": {},
   "outputs": [],
   "source": [
    "# Visualize the loss\n",
    "fig, ax = plt.subplots()\n",
    "ax.plot(history.history['loss'], label='Train loss', marker='o')\n",
    "ax.plot(history.history['val_loss'], label='Validation Loss', marker='o')\n",
    "ax.legend();\n",
    "\n"
   ]
  },
  {
   "cell_type": "markdown",
   "id": "dbe45198-6bb4-4641-b9a9-6ffbfcaa0f37",
   "metadata": {},
   "source": []
  },
  {
   "cell_type": "code",
   "execution_count": null,
   "id": "8172939a-81da-4d37-bdc7-5044e13acced",
   "metadata": {},
   "outputs": [],
   "source": [
    "# Sequential model\n",
    "model = Sequential()\n",
    "\n",
    "# First hidden layer\n",
    "model.add(Dense(30, # How many neurons you have in your first hidden layer\n",
    "                input_dim = input_shape, # What is the shape of your input features (number of columns)\n",
    "                activation = 'relu')) # What activation function are you using?\n",
    "# Second hidden layer\n",
    "model.add(Dense(10, # How many neurons you have in your second hidden layer\n",
    "                activation = 'relu')) # What activation function are you using?\n",
    "# Output layer\n",
    "model.add(Dense(1, activation = 'sigmoid'))\n",
    "\n"
   ]
  },
  {
   "cell_type": "code",
   "execution_count": null,
   "id": "19a05e2b-7bbc-402a-a58a-3d2b69d9dcc5",
   "metadata": {},
   "outputs": [],
   "source": [
    "# Metrics are specified during the .compile step\n",
    "# Step 2: Compile\n",
    "model.compile(loss = 'bce', optimizer = 'adam'\n",
    "              , metrics=['accuracy',\n",
    "                         tf.keras.metrics.Recall(name='recall'),\n",
    "                         tf.keras.metrics.Precision(name='precision'),\n",
    "                        ])\n",
    "model.summary()\n",
    "\n"
   ]
  },
  {
   "cell_type": "code",
   "execution_count": null,
   "id": "e19629ab-a52e-445f-b58e-c36ddea2297f",
   "metadata": {},
   "outputs": [],
   "source": [
    "# Step 3: Fit our model\n",
    "history = model.fit(X_train_tf, y_train_enc,\n",
    "                    validation_data = (X_test_tf, y_test_enc), \n",
    "                    epochs=10)\n",
    "\n"
   ]
  },
  {
   "cell_type": "code",
   "execution_count": null,
   "id": "5589849a-299b-4e4e-ab39-01a9c1fcd35f",
   "metadata": {},
   "outputs": [],
   "source": [
    "# Convert the history to a dataframe for readability\n",
    "history_df = pd.DataFrame(history.history)\n",
    "history_df\n",
    "\n"
   ]
  },
  {
   "cell_type": "code",
   "execution_count": null,
   "id": "a72f046d-c07e-4fd7-83df-8d00a9d89201",
   "metadata": {},
   "outputs": [],
   "source": [
    "# Custom function for plotting each metric\n",
    "def plot_history(history, figsize=(6,12), marker='o'):\n",
    "       \n",
    "    # Get list of metrics from history\n",
    "    metrics = [c for c in history.history if not c.startswith('val_')]\n",
    "    \n",
    "    ## Separate row for each metric\n",
    "    fig, axes = plt.subplots(nrows=len(metrics),figsize=figsize)\n",
    "    \n",
    "    # For each metric\n",
    "    for i, metric_name in enumerate(metrics):\n",
    "    \n",
    "        # Get the axis for the current metric\n",
    "        ax = axes[i]\n",
    "    \n",
    "        # Get metric from history.history\n",
    "        metric_values = history.history[metric_name]\n",
    "        # Get epochs from history\n",
    "        epochs = history.epoch\n",
    "    \n",
    "        # Plot the training metric\n",
    "        ax.plot(epochs, metric_values, label=metric_name, marker=marker)\n",
    "    \n",
    "        ## Check if val_{metric} exists. if so, plot:\n",
    "        val_metric_name = f\"val_{metric_name}\"\n",
    "        if val_metric_name in history.history:\n",
    "            # Get validation values and plot\n",
    "            metric_values = history.history[val_metric_name]\n",
    "            ax.plot(epochs,metric_values,label=val_metric_name, marker=marker)\n",
    "    \n",
    "        # Final subplot adjustments \n",
    "        ax.legend()\n",
    "        ax.set_title(metric_name)\n",
    "    fig.tight_layout()\n",
    "\n",
    "    return fig, axes\n",
    "\n"
   ]
  },
  {
   "cell_type": "code",
   "execution_count": null,
   "id": "cd123ea4-9093-40e2-a5c5-81137fe084e2",
   "metadata": {},
   "outputs": [],
   "source": [
    "# Call the custom function\n",
    "plot_history(history);\n",
    "\n"
   ]
  },
  {
   "cell_type": "code",
   "execution_count": null,
   "id": "28433517-25e8-40a1-a991-3704c1e544f8",
   "metadata": {},
   "outputs": [],
   "source": [
    "# Sequential model\n",
    "model = Sequential()\n",
    "\n",
    "# First hidden layer\n",
    "model.add(Dense(30, # How many neurons you have in your first hidden layer\n",
    "                input_dim = input_shape, # What is the shape of your input features (number of columns)\n",
    "                activation = 'relu')) # What activation function are you using?\n",
    "# Second hidden layer\n",
    "model.add(Dense(10, # How many neurons you have in your second hidden layer\n",
    "                activation = 'relu')) # What activation function are you using?\n",
    "# Output layer\n",
    "model.add(Dense(1, activation = 'sigmoid'))\n",
    "\n",
    "### Metrics are specified during the.compile step\n",
    "# Step 2: Compile\n",
    "model.compile(loss = 'bce', optimizer = 'adam'\n",
    "              , metrics=['accuracy',\n",
    "                         tf.keras.metrics.Recall(name='recall'),\n",
    "                         tf.keras.metrics.Precision(name='precision'),\n",
    "                        ])\n",
    "model.summary()\n",
    "\n"
   ]
  },
  {
   "cell_type": "code",
   "execution_count": null,
   "id": "0a6fcb98-e382-4cc7-a710-c1b8704ba768",
   "metadata": {},
   "outputs": [],
   "source": [
    "# Step 3: Fit our model\n",
    "history = model.fit(X_train_tf, y_train_enc,\n",
    "                    validation_split=.2, \n",
    "                    epochs=10)\n",
    "\n",
    "plot_history(history);\n",
    "\n"
   ]
  },
  {
   "cell_type": "code",
   "execution_count": null,
   "id": "9d08a6a2-4cd2-440d-b3c6-da27d6fd45f6",
   "metadata": {},
   "outputs": [],
   "source": [
    "# Evaluate neural network with builtin evaluation\n",
    "result = model.evaluate(X_test_tf, y_test_enc,return_dict=True)\n",
    "result\n",
    "\n"
   ]
  },
  {
   "cell_type": "code",
   "execution_count": null,
   "id": "0dc3ca5d-eb2b-4094-9786-445d06f86bae",
   "metadata": {},
   "outputs": [],
   "source": [
    "# make predictions\n",
    "y_pred_test = model.predict(X_test_tf)\n",
    "y_pred_test[:5]\n",
    "\n"
   ]
  },
  {
   "cell_type": "code",
   "execution_count": null,
   "id": "8ae112da-fbce-40b4-9a5b-501f5d5dd843",
   "metadata": {},
   "outputs": [],
   "source": [
    "# round the predictions\n",
    "y_pred_test = np.round(y_pred_test)\n",
    "y_pred_test[:5]\n",
    "\n"
   ]
  },
  {
   "cell_type": "code",
   "execution_count": null,
   "id": "c591fda1-76ba-4b21-b2d0-a47f5f46e70a",
   "metadata": {},
   "outputs": [],
   "source": [
    "from sklearn.metrics import classification_report,ConfusionMatrixDisplay\n",
    "print(classification_report(y_test_enc, y_pred_test))\n",
    " \n",
    "ConfusionMatrixDisplay.from_predictions(y_test_enc, y_pred_test, cmap='Blues',\n",
    "                                       normalize='true');\n",
    "\n"
   ]
  },
  {
   "cell_type": "code",
   "execution_count": null,
   "id": "84670805-c24e-459b-a2f1-4c871ff0190e",
   "metadata": {},
   "outputs": [],
   "source": []
  },
  {
   "cell_type": "code",
   "execution_count": null,
   "id": "8805fb81-401e-4ffe-82cc-ee9acee1db68",
   "metadata": {},
   "outputs": [],
   "source": []
  },
  {
   "cell_type": "code",
   "execution_count": null,
   "id": "ae7d8356-933b-462f-aae6-ae9b950f385a",
   "metadata": {},
   "outputs": [],
   "source": []
  },
  {
   "cell_type": "code",
   "execution_count": null,
   "id": "f9e96fb2-13db-4b2c-9d31-9a309dfe44b8",
   "metadata": {},
   "outputs": [],
   "source": []
  }
 ],
 "metadata": {
  "kernelspec": {
   "display_name": "Python (dojo-env)",
   "language": "python",
   "name": "dojo-env"
  },
  "language_info": {
   "codemirror_mode": {
    "name": "ipython",
    "version": 3
   },
   "file_extension": ".py",
   "mimetype": "text/x-python",
   "name": "python",
   "nbconvert_exporter": "python",
   "pygments_lexer": "ipython3",
   "version": "3.10.10"
  }
 },
 "nbformat": 4,
 "nbformat_minor": 5
}
